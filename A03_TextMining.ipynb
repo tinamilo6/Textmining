{
  "cells": [
    {
      "cell_type": "markdown",
      "metadata": {
        "id": "view-in-github",
        "colab_type": "text"
      },
      "source": [
        "<a href=\"https://colab.research.google.com/github/tinamilo6/Textmining/blob/main/A03_TextMining.ipynb\" target=\"_parent\"><img src=\"https://colab.research.google.com/assets/colab-badge.svg\" alt=\"Open In Colab\"/></a>"
      ]
    },
    {
      "cell_type": "code",
      "execution_count": 1,
      "metadata": {
        "colab": {
          "base_uri": "https://localhost:8080/"
        },
        "id": "X1D-_ww7fQTB",
        "outputId": "c16ac632-0c1d-4ed5-a82e-929c68e0ffc7"
      },
      "outputs": [
        {
          "output_type": "stream",
          "name": "stdout",
          "text": [
            "Requirement already satisfied: pandas in /usr/local/lib/python3.10/dist-packages (2.2.2)\n",
            "Collecting sklearn\n",
            "  Downloading sklearn-0.0.post12.tar.gz (2.6 kB)\n",
            "  \u001b[1;31merror\u001b[0m: \u001b[1msubprocess-exited-with-error\u001b[0m\n",
            "  \n",
            "  \u001b[31m×\u001b[0m \u001b[32mpython setup.py egg_info\u001b[0m did not run successfully.\n",
            "  \u001b[31m│\u001b[0m exit code: \u001b[1;36m1\u001b[0m\n",
            "  \u001b[31m╰─>\u001b[0m See above for output.\n",
            "  \n",
            "  \u001b[1;35mnote\u001b[0m: This error originates from a subprocess, and is likely not a problem with pip.\n",
            "  Preparing metadata (setup.py) ... \u001b[?25l\u001b[?25herror\n",
            "\u001b[1;31merror\u001b[0m: \u001b[1mmetadata-generation-failed\u001b[0m\n",
            "\n",
            "\u001b[31m×\u001b[0m Encountered error while generating package metadata.\n",
            "\u001b[31m╰─>\u001b[0m See above for output.\n",
            "\n",
            "\u001b[1;35mnote\u001b[0m: This is an issue with the package mentioned above, not pip.\n",
            "\u001b[1;36mhint\u001b[0m: See above for details.\n"
          ]
        }
      ],
      "source": [
        "!pip install pandas sklearn nltk"
      ]
    },
    {
      "cell_type": "markdown",
      "metadata": {
        "id": "hS1_jLQofQTD"
      },
      "source": [
        "# Assignment 3 - Text Mining\n",
        "\n",
        "Project management and tools for health informatics"
      ]
    },
    {
      "cell_type": "markdown",
      "metadata": {
        "id": "ufi0zQidfQTE"
      },
      "source": [
        "## 1. Download and prepare data:\n",
        "\n",
        "**Do not alter the code in this Section!**\n",
        "\n",
        "The code in this section downloads the [IMDB IMDB Large Movie Review Dataset]('https://ai.stanford.edu/~amaas/data/sentiment/aclImdb_v1.tar.gz') which is the dataset you will be working on in this assignment."
      ]
    },
    {
      "cell_type": "code",
      "execution_count": 2,
      "metadata": {
        "id": "aOzKCiw4fQTE"
      },
      "outputs": [],
      "source": [
        "import os\n",
        "import tarfile\n",
        "from urllib.request import urlretrieve"
      ]
    },
    {
      "cell_type": "code",
      "execution_count": 3,
      "metadata": {
        "id": "Sq9rCBBrfQTE"
      },
      "outputs": [],
      "source": [
        "if not os.path.exists('aclImdb'):\n",
        "    # download data:\n",
        "    urlretrieve('https://ai.stanford.edu/~amaas/data/sentiment/aclImdb_v1.tar.gz', 'aclImdb.tar.gz')\n",
        "\n",
        "    # unzip data:\n",
        "    with tarfile.open('aclImdb.tar.gz') as file:\n",
        "        file.extractall('./')"
      ]
    },
    {
      "cell_type": "markdown",
      "metadata": {
        "id": "h9pzG__QfQTF"
      },
      "source": [
        "## 2. Some helper Functions:\n",
        "\n",
        "**Do not alter the code in this Section!**\n",
        "\n",
        "This section contains the code for some helper functions that will be useful for solving the assignment. Example code on how to use the functions is provided in section 3."
      ]
    },
    {
      "cell_type": "code",
      "execution_count": 4,
      "metadata": {
        "id": "LaM3GoopfQTF"
      },
      "outputs": [],
      "source": [
        "import pandas as pd\n",
        "\n",
        "from typing import Literal, Tuple, Iterable"
      ]
    },
    {
      "cell_type": "markdown",
      "metadata": {
        "id": "XxsGe7MufQTF"
      },
      "source": [
        "Function for loading data into a pandas dataframe:"
      ]
    },
    {
      "cell_type": "code",
      "execution_count": 5,
      "metadata": {
        "id": "tKoAn698fQTG"
      },
      "outputs": [],
      "source": [
        "def load_data(split:Literal['train', 'test'], texts_per_class:int=500) -> pd.DataFrame:\n",
        "    ''' Loads the data into a pandas dataframe.'''\n",
        "    paths  = []\n",
        "    labels = []\n",
        "\n",
        "    for label in ('pos', 'neg'):\n",
        "        # get all files in the folder:\n",
        "        files = os.listdir(os.path.join('aclImdb', split, label))[:texts_per_class]\n",
        "\n",
        "        # append them to the lists:\n",
        "        paths.extend([os.path.join('aclImdb', split, label, f) for f in files])\n",
        "        labels.extend([label] * len(files))\n",
        "\n",
        "    return pd.DataFrame({'path':paths, 'label':labels})"
      ]
    },
    {
      "cell_type": "markdown",
      "metadata": {
        "id": "T6C1jyAtfQTG"
      },
      "source": [
        "Function for loading a specific text:"
      ]
    },
    {
      "cell_type": "code",
      "execution_count": 6,
      "metadata": {
        "id": "y0QGuZMXfQTH"
      },
      "outputs": [],
      "source": [
        "def load_text(path:str) -> str:\n",
        "    ''' Reads a single text given the path. '''\n",
        "    # read file from disk:\n",
        "    with open(path, 'r', encoding='utf8') as file:\n",
        "        s = file.read()\n",
        "\n",
        "    return s"
      ]
    },
    {
      "cell_type": "markdown",
      "metadata": {
        "id": "uR52KxrvfQTH"
      },
      "source": [
        "Function for iterating through multiple texts:"
      ]
    },
    {
      "cell_type": "code",
      "execution_count": 7,
      "metadata": {
        "id": "NImrB2NzfQTH"
      },
      "outputs": [],
      "source": [
        "def iterate_texts(data:pd.DataFrame) -> Iterable[Tuple[str, str]]:\n",
        "    ''' Iterates through a pandas dataframe. '''\n",
        "\n",
        "    for path in data['path'].values:\n",
        "        # read file from disk:\n",
        "        with open(path, 'r', encoding='utf8') as file:\n",
        "            text = file.read()\n",
        "\n",
        "        yield text"
      ]
    },
    {
      "cell_type": "markdown",
      "metadata": {
        "id": "yzYgen2AfQTH"
      },
      "source": [
        "## 3. Your Code:\n",
        "\n",
        "**Alter the code below to complete the assignment!**"
      ]
    },
    {
      "cell_type": "markdown",
      "metadata": {
        "id": "i3FnCEu6fQTH"
      },
      "source": [
        "Load the training data:"
      ]
    },
    {
      "cell_type": "code",
      "execution_count": 8,
      "metadata": {
        "colab": {
          "base_uri": "https://localhost:8080/",
          "height": 419
        },
        "id": "CeshtSl9fQTI",
        "outputId": "ebc230f8-f1b0-4859-8e00-974aa7a88143"
      },
      "outputs": [
        {
          "output_type": "execute_result",
          "data": {
            "text/plain": [
              "                              path label\n",
              "0     aclImdb/train/pos/3937_8.txt   pos\n",
              "1    aclImdb/train/pos/10290_8.txt   pos\n",
              "2    aclImdb/train/pos/11917_8.txt   pos\n",
              "3     aclImdb/train/pos/6627_7.txt   pos\n",
              "4     aclImdb/train/pos/8219_7.txt   pos\n",
              "..                             ...   ...\n",
              "995   aclImdb/train/neg/2793_1.txt   neg\n",
              "996   aclImdb/train/neg/6236_1.txt   neg\n",
              "997   aclImdb/train/neg/8990_3.txt   neg\n",
              "998   aclImdb/train/neg/7945_1.txt   neg\n",
              "999  aclImdb/train/neg/10263_4.txt   neg\n",
              "\n",
              "[1000 rows x 2 columns]"
            ],
            "text/html": [
              "\n",
              "  <div id=\"df-94e42f82-81fe-4e5b-b13d-4c7c13133732\" class=\"colab-df-container\">\n",
              "    <div>\n",
              "<style scoped>\n",
              "    .dataframe tbody tr th:only-of-type {\n",
              "        vertical-align: middle;\n",
              "    }\n",
              "\n",
              "    .dataframe tbody tr th {\n",
              "        vertical-align: top;\n",
              "    }\n",
              "\n",
              "    .dataframe thead th {\n",
              "        text-align: right;\n",
              "    }\n",
              "</style>\n",
              "<table border=\"1\" class=\"dataframe\">\n",
              "  <thead>\n",
              "    <tr style=\"text-align: right;\">\n",
              "      <th></th>\n",
              "      <th>path</th>\n",
              "      <th>label</th>\n",
              "    </tr>\n",
              "  </thead>\n",
              "  <tbody>\n",
              "    <tr>\n",
              "      <th>0</th>\n",
              "      <td>aclImdb/train/pos/3937_8.txt</td>\n",
              "      <td>pos</td>\n",
              "    </tr>\n",
              "    <tr>\n",
              "      <th>1</th>\n",
              "      <td>aclImdb/train/pos/10290_8.txt</td>\n",
              "      <td>pos</td>\n",
              "    </tr>\n",
              "    <tr>\n",
              "      <th>2</th>\n",
              "      <td>aclImdb/train/pos/11917_8.txt</td>\n",
              "      <td>pos</td>\n",
              "    </tr>\n",
              "    <tr>\n",
              "      <th>3</th>\n",
              "      <td>aclImdb/train/pos/6627_7.txt</td>\n",
              "      <td>pos</td>\n",
              "    </tr>\n",
              "    <tr>\n",
              "      <th>4</th>\n",
              "      <td>aclImdb/train/pos/8219_7.txt</td>\n",
              "      <td>pos</td>\n",
              "    </tr>\n",
              "    <tr>\n",
              "      <th>...</th>\n",
              "      <td>...</td>\n",
              "      <td>...</td>\n",
              "    </tr>\n",
              "    <tr>\n",
              "      <th>995</th>\n",
              "      <td>aclImdb/train/neg/2793_1.txt</td>\n",
              "      <td>neg</td>\n",
              "    </tr>\n",
              "    <tr>\n",
              "      <th>996</th>\n",
              "      <td>aclImdb/train/neg/6236_1.txt</td>\n",
              "      <td>neg</td>\n",
              "    </tr>\n",
              "    <tr>\n",
              "      <th>997</th>\n",
              "      <td>aclImdb/train/neg/8990_3.txt</td>\n",
              "      <td>neg</td>\n",
              "    </tr>\n",
              "    <tr>\n",
              "      <th>998</th>\n",
              "      <td>aclImdb/train/neg/7945_1.txt</td>\n",
              "      <td>neg</td>\n",
              "    </tr>\n",
              "    <tr>\n",
              "      <th>999</th>\n",
              "      <td>aclImdb/train/neg/10263_4.txt</td>\n",
              "      <td>neg</td>\n",
              "    </tr>\n",
              "  </tbody>\n",
              "</table>\n",
              "<p>1000 rows × 2 columns</p>\n",
              "</div>\n",
              "    <div class=\"colab-df-buttons\">\n",
              "\n",
              "  <div class=\"colab-df-container\">\n",
              "    <button class=\"colab-df-convert\" onclick=\"convertToInteractive('df-94e42f82-81fe-4e5b-b13d-4c7c13133732')\"\n",
              "            title=\"Convert this dataframe to an interactive table.\"\n",
              "            style=\"display:none;\">\n",
              "\n",
              "  <svg xmlns=\"http://www.w3.org/2000/svg\" height=\"24px\" viewBox=\"0 -960 960 960\">\n",
              "    <path d=\"M120-120v-720h720v720H120Zm60-500h600v-160H180v160Zm220 220h160v-160H400v160Zm0 220h160v-160H400v160ZM180-400h160v-160H180v160Zm440 0h160v-160H620v160ZM180-180h160v-160H180v160Zm440 0h160v-160H620v160Z\"/>\n",
              "  </svg>\n",
              "    </button>\n",
              "\n",
              "  <style>\n",
              "    .colab-df-container {\n",
              "      display:flex;\n",
              "      gap: 12px;\n",
              "    }\n",
              "\n",
              "    .colab-df-convert {\n",
              "      background-color: #E8F0FE;\n",
              "      border: none;\n",
              "      border-radius: 50%;\n",
              "      cursor: pointer;\n",
              "      display: none;\n",
              "      fill: #1967D2;\n",
              "      height: 32px;\n",
              "      padding: 0 0 0 0;\n",
              "      width: 32px;\n",
              "    }\n",
              "\n",
              "    .colab-df-convert:hover {\n",
              "      background-color: #E2EBFA;\n",
              "      box-shadow: 0px 1px 2px rgba(60, 64, 67, 0.3), 0px 1px 3px 1px rgba(60, 64, 67, 0.15);\n",
              "      fill: #174EA6;\n",
              "    }\n",
              "\n",
              "    .colab-df-buttons div {\n",
              "      margin-bottom: 4px;\n",
              "    }\n",
              "\n",
              "    [theme=dark] .colab-df-convert {\n",
              "      background-color: #3B4455;\n",
              "      fill: #D2E3FC;\n",
              "    }\n",
              "\n",
              "    [theme=dark] .colab-df-convert:hover {\n",
              "      background-color: #434B5C;\n",
              "      box-shadow: 0px 1px 3px 1px rgba(0, 0, 0, 0.15);\n",
              "      filter: drop-shadow(0px 1px 2px rgba(0, 0, 0, 0.3));\n",
              "      fill: #FFFFFF;\n",
              "    }\n",
              "  </style>\n",
              "\n",
              "    <script>\n",
              "      const buttonEl =\n",
              "        document.querySelector('#df-94e42f82-81fe-4e5b-b13d-4c7c13133732 button.colab-df-convert');\n",
              "      buttonEl.style.display =\n",
              "        google.colab.kernel.accessAllowed ? 'block' : 'none';\n",
              "\n",
              "      async function convertToInteractive(key) {\n",
              "        const element = document.querySelector('#df-94e42f82-81fe-4e5b-b13d-4c7c13133732');\n",
              "        const dataTable =\n",
              "          await google.colab.kernel.invokeFunction('convertToInteractive',\n",
              "                                                    [key], {});\n",
              "        if (!dataTable) return;\n",
              "\n",
              "        const docLinkHtml = 'Like what you see? Visit the ' +\n",
              "          '<a target=\"_blank\" href=https://colab.research.google.com/notebooks/data_table.ipynb>data table notebook</a>'\n",
              "          + ' to learn more about interactive tables.';\n",
              "        element.innerHTML = '';\n",
              "        dataTable['output_type'] = 'display_data';\n",
              "        await google.colab.output.renderOutput(dataTable, element);\n",
              "        const docLink = document.createElement('div');\n",
              "        docLink.innerHTML = docLinkHtml;\n",
              "        element.appendChild(docLink);\n",
              "      }\n",
              "    </script>\n",
              "  </div>\n",
              "\n",
              "\n",
              "<div id=\"df-44761865-b032-4210-befd-9ae6b4a930e1\">\n",
              "  <button class=\"colab-df-quickchart\" onclick=\"quickchart('df-44761865-b032-4210-befd-9ae6b4a930e1')\"\n",
              "            title=\"Suggest charts\"\n",
              "            style=\"display:none;\">\n",
              "\n",
              "<svg xmlns=\"http://www.w3.org/2000/svg\" height=\"24px\"viewBox=\"0 0 24 24\"\n",
              "     width=\"24px\">\n",
              "    <g>\n",
              "        <path d=\"M19 3H5c-1.1 0-2 .9-2 2v14c0 1.1.9 2 2 2h14c1.1 0 2-.9 2-2V5c0-1.1-.9-2-2-2zM9 17H7v-7h2v7zm4 0h-2V7h2v10zm4 0h-2v-4h2v4z\"/>\n",
              "    </g>\n",
              "</svg>\n",
              "  </button>\n",
              "\n",
              "<style>\n",
              "  .colab-df-quickchart {\n",
              "      --bg-color: #E8F0FE;\n",
              "      --fill-color: #1967D2;\n",
              "      --hover-bg-color: #E2EBFA;\n",
              "      --hover-fill-color: #174EA6;\n",
              "      --disabled-fill-color: #AAA;\n",
              "      --disabled-bg-color: #DDD;\n",
              "  }\n",
              "\n",
              "  [theme=dark] .colab-df-quickchart {\n",
              "      --bg-color: #3B4455;\n",
              "      --fill-color: #D2E3FC;\n",
              "      --hover-bg-color: #434B5C;\n",
              "      --hover-fill-color: #FFFFFF;\n",
              "      --disabled-bg-color: #3B4455;\n",
              "      --disabled-fill-color: #666;\n",
              "  }\n",
              "\n",
              "  .colab-df-quickchart {\n",
              "    background-color: var(--bg-color);\n",
              "    border: none;\n",
              "    border-radius: 50%;\n",
              "    cursor: pointer;\n",
              "    display: none;\n",
              "    fill: var(--fill-color);\n",
              "    height: 32px;\n",
              "    padding: 0;\n",
              "    width: 32px;\n",
              "  }\n",
              "\n",
              "  .colab-df-quickchart:hover {\n",
              "    background-color: var(--hover-bg-color);\n",
              "    box-shadow: 0 1px 2px rgba(60, 64, 67, 0.3), 0 1px 3px 1px rgba(60, 64, 67, 0.15);\n",
              "    fill: var(--button-hover-fill-color);\n",
              "  }\n",
              "\n",
              "  .colab-df-quickchart-complete:disabled,\n",
              "  .colab-df-quickchart-complete:disabled:hover {\n",
              "    background-color: var(--disabled-bg-color);\n",
              "    fill: var(--disabled-fill-color);\n",
              "    box-shadow: none;\n",
              "  }\n",
              "\n",
              "  .colab-df-spinner {\n",
              "    border: 2px solid var(--fill-color);\n",
              "    border-color: transparent;\n",
              "    border-bottom-color: var(--fill-color);\n",
              "    animation:\n",
              "      spin 1s steps(1) infinite;\n",
              "  }\n",
              "\n",
              "  @keyframes spin {\n",
              "    0% {\n",
              "      border-color: transparent;\n",
              "      border-bottom-color: var(--fill-color);\n",
              "      border-left-color: var(--fill-color);\n",
              "    }\n",
              "    20% {\n",
              "      border-color: transparent;\n",
              "      border-left-color: var(--fill-color);\n",
              "      border-top-color: var(--fill-color);\n",
              "    }\n",
              "    30% {\n",
              "      border-color: transparent;\n",
              "      border-left-color: var(--fill-color);\n",
              "      border-top-color: var(--fill-color);\n",
              "      border-right-color: var(--fill-color);\n",
              "    }\n",
              "    40% {\n",
              "      border-color: transparent;\n",
              "      border-right-color: var(--fill-color);\n",
              "      border-top-color: var(--fill-color);\n",
              "    }\n",
              "    60% {\n",
              "      border-color: transparent;\n",
              "      border-right-color: var(--fill-color);\n",
              "    }\n",
              "    80% {\n",
              "      border-color: transparent;\n",
              "      border-right-color: var(--fill-color);\n",
              "      border-bottom-color: var(--fill-color);\n",
              "    }\n",
              "    90% {\n",
              "      border-color: transparent;\n",
              "      border-bottom-color: var(--fill-color);\n",
              "    }\n",
              "  }\n",
              "</style>\n",
              "\n",
              "  <script>\n",
              "    async function quickchart(key) {\n",
              "      const quickchartButtonEl =\n",
              "        document.querySelector('#' + key + ' button');\n",
              "      quickchartButtonEl.disabled = true;  // To prevent multiple clicks.\n",
              "      quickchartButtonEl.classList.add('colab-df-spinner');\n",
              "      try {\n",
              "        const charts = await google.colab.kernel.invokeFunction(\n",
              "            'suggestCharts', [key], {});\n",
              "      } catch (error) {\n",
              "        console.error('Error during call to suggestCharts:', error);\n",
              "      }\n",
              "      quickchartButtonEl.classList.remove('colab-df-spinner');\n",
              "      quickchartButtonEl.classList.add('colab-df-quickchart-complete');\n",
              "    }\n",
              "    (() => {\n",
              "      let quickchartButtonEl =\n",
              "        document.querySelector('#df-44761865-b032-4210-befd-9ae6b4a930e1 button');\n",
              "      quickchartButtonEl.style.display =\n",
              "        google.colab.kernel.accessAllowed ? 'block' : 'none';\n",
              "    })();\n",
              "  </script>\n",
              "</div>\n",
              "\n",
              "  <div id=\"id_a66c49f9-707f-4cb0-ad53-85d5b1a163ec\">\n",
              "    <style>\n",
              "      .colab-df-generate {\n",
              "        background-color: #E8F0FE;\n",
              "        border: none;\n",
              "        border-radius: 50%;\n",
              "        cursor: pointer;\n",
              "        display: none;\n",
              "        fill: #1967D2;\n",
              "        height: 32px;\n",
              "        padding: 0 0 0 0;\n",
              "        width: 32px;\n",
              "      }\n",
              "\n",
              "      .colab-df-generate:hover {\n",
              "        background-color: #E2EBFA;\n",
              "        box-shadow: 0px 1px 2px rgba(60, 64, 67, 0.3), 0px 1px 3px 1px rgba(60, 64, 67, 0.15);\n",
              "        fill: #174EA6;\n",
              "      }\n",
              "\n",
              "      [theme=dark] .colab-df-generate {\n",
              "        background-color: #3B4455;\n",
              "        fill: #D2E3FC;\n",
              "      }\n",
              "\n",
              "      [theme=dark] .colab-df-generate:hover {\n",
              "        background-color: #434B5C;\n",
              "        box-shadow: 0px 1px 3px 1px rgba(0, 0, 0, 0.15);\n",
              "        filter: drop-shadow(0px 1px 2px rgba(0, 0, 0, 0.3));\n",
              "        fill: #FFFFFF;\n",
              "      }\n",
              "    </style>\n",
              "    <button class=\"colab-df-generate\" onclick=\"generateWithVariable('data_train')\"\n",
              "            title=\"Generate code using this dataframe.\"\n",
              "            style=\"display:none;\">\n",
              "\n",
              "  <svg xmlns=\"http://www.w3.org/2000/svg\" height=\"24px\"viewBox=\"0 0 24 24\"\n",
              "       width=\"24px\">\n",
              "    <path d=\"M7,19H8.4L18.45,9,17,7.55,7,17.6ZM5,21V16.75L18.45,3.32a2,2,0,0,1,2.83,0l1.4,1.43a1.91,1.91,0,0,1,.58,1.4,1.91,1.91,0,0,1-.58,1.4L9.25,21ZM18.45,9,17,7.55Zm-12,3A5.31,5.31,0,0,0,4.9,8.1,5.31,5.31,0,0,0,1,6.5,5.31,5.31,0,0,0,4.9,4.9,5.31,5.31,0,0,0,6.5,1,5.31,5.31,0,0,0,8.1,4.9,5.31,5.31,0,0,0,12,6.5,5.46,5.46,0,0,0,6.5,12Z\"/>\n",
              "  </svg>\n",
              "    </button>\n",
              "    <script>\n",
              "      (() => {\n",
              "      const buttonEl =\n",
              "        document.querySelector('#id_a66c49f9-707f-4cb0-ad53-85d5b1a163ec button.colab-df-generate');\n",
              "      buttonEl.style.display =\n",
              "        google.colab.kernel.accessAllowed ? 'block' : 'none';\n",
              "\n",
              "      buttonEl.onclick = () => {\n",
              "        google.colab.notebook.generateWithVariable('data_train');\n",
              "      }\n",
              "      })();\n",
              "    </script>\n",
              "  </div>\n",
              "\n",
              "    </div>\n",
              "  </div>\n"
            ],
            "application/vnd.google.colaboratory.intrinsic+json": {
              "type": "dataframe",
              "variable_name": "data_train",
              "summary": "{\n  \"name\": \"data_train\",\n  \"rows\": 1000,\n  \"fields\": [\n    {\n      \"column\": \"path\",\n      \"properties\": {\n        \"dtype\": \"string\",\n        \"num_unique_values\": 1000,\n        \"samples\": [\n          \"aclImdb/train/neg/3861_4.txt\",\n          \"aclImdb/train/neg/9800_1.txt\",\n          \"aclImdb/train/neg/9273_1.txt\"\n        ],\n        \"semantic_type\": \"\",\n        \"description\": \"\"\n      }\n    },\n    {\n      \"column\": \"label\",\n      \"properties\": {\n        \"dtype\": \"category\",\n        \"num_unique_values\": 2,\n        \"samples\": [\n          \"neg\",\n          \"pos\"\n        ],\n        \"semantic_type\": \"\",\n        \"description\": \"\"\n      }\n    }\n  ]\n}"
            }
          },
          "metadata": {},
          "execution_count": 8
        }
      ],
      "source": [
        "data_train = load_data('train')\n",
        "data_test  = load_data('test')\n",
        "data_train"
      ]
    },
    {
      "cell_type": "markdown",
      "metadata": {
        "id": "4qXdudbDfQTI"
      },
      "source": [
        "### Accessing the texts:"
      ]
    },
    {
      "cell_type": "code",
      "execution_count": 9,
      "metadata": {
        "colab": {
          "base_uri": "https://localhost:8080/",
          "height": 103
        },
        "id": "g82ADF3HfQTI",
        "outputId": "0e595751-e4dc-419f-be79-d989aae55d9e"
      },
      "outputs": [
        {
          "output_type": "execute_result",
          "data": {
            "text/plain": [
              "\"The early career of Abe Lincoln is beautifully presented by Ford. Not that anyone alive has seen footage of the real Lincoln, but Fonda, wearing a fake nose, is uncanny as Lincoln, with the voice, delivery, walk, and other mannerisms - exactly as one would imagine Lincoln to have been. Ford, in the first of three consecutive films he made with Fonda, is at the top of his form, perfectly evoking early 19th century America. The story focuses on a pair accused of murder that Lincoln defends and the courtroom scenes are quite well done. The supporting cast includes many of Ford's regulars. This was Alice Brady's last film, as she died months after its release.\""
            ],
            "application/vnd.google.colaboratory.intrinsic+json": {
              "type": "string"
            }
          },
          "metadata": {},
          "execution_count": 9
        }
      ],
      "source": [
        "# Sample code: load a single text\n",
        "load_text(data_train.loc[0, 'path'])"
      ]
    },
    {
      "cell_type": "code",
      "execution_count": 10,
      "metadata": {
        "colab": {
          "base_uri": "https://localhost:8080/"
        },
        "id": "OGDmPlQbfQTI",
        "outputId": "18d5d8b3-7dc9-4054-e34a-a2592a241606"
      },
      "outputs": [
        {
          "output_type": "stream",
          "name": "stdout",
          "text": [
            "The early career of Abe Lincoln is beautifully presented by Ford. Not that anyone alive has seen footage of the real Lincoln, but Fonda, wearing a fake nose, is uncanny as Lincoln, with the voice, delivery, walk, and other mannerisms - exactly as one would imagine Lincoln to have been. Ford, in the first of three consecutive films he made with Fonda, is at the top of his form, perfectly evoking early 19th century America. The story focuses on a pair accused of murder that Lincoln defends and the courtroom scenes are quite well done. The supporting cast includes many of Ford's regulars. This was Alice Brady's last film, as she died months after its release.\n",
            "Bruce Almighty is the best Jim Carrey work since The Truman Show, and was a pleasant surprise after some of his recent \"Hey Hollywood - look how good I can act!\" box office disappointments. It's great to see Jim recognizing and embracing his strengths. He won't get an Academy Award but the film itself will last longer than many of the \"awarded films\" of the Academy. He is at the top of his form in this most recent film - it's like the return of an old friend.<br /><br />Carrey, Freeman, and Aniston all do a great job together - comfortable in their comedy roles, superb comic timing, and obviously having fun together but without the \"hey mom - look how funny I am\" type of comedy. A real surprise was Steven Carrell as Carrey's nemesis (Carrell of The Daily Show fame), who walked away with some the best and funniest scenes of the film. I laughed harder at Carell than anyone else in the past three years.<br /><br />I can foresee the religious nuts in the US will be up-in-arms over the treatment of God, but the bottom line of the film is true to all major theological beliefs - we are masses of protoplasms trying to get through our short lives by exercising our free will. Without Married With Children t o complain about, this will likely become a target of people with misplaced priorities (who know the types - men adorned in gold watches on Sunday morning and late nigh television, selling prayers to God). And, again, about 0.5% of the country will care and 80% of the media will report it.<br /><br />The bottom line: this a purely entertaining film, each audience member laughingly wondering what they would do, and a feel-good feeling at the movie conclusion. A walk down any major street in America has to confirm that God has a tremendous sense of humor. What better comic genius to remind us of that than Jim Carry.<br /><br />Thanks again, Jim -- it's GREAT to have you back!!\n",
            "Yeah, the archetype of a simple but inspirational movie. The very end when the entire crowd in the stadium gets up and the people raise their hands gives me a chill whenever I see it. That's just brilliant. Joseph is wonderful as the lonely and sad kid who has so far been disappointed by anyone and anything in his life. The way he interacts with Danny Glover and tries to make him believe in the magic and the angels is funny and exhilarating. A very nice family movie with - I concede - a rather corny happy end. But hey, it doesn't really matter, the movie retains its basic quality by the good acting and the inspirational themes.\n",
            "A Scanner Darkly, Minority Report, Blade Runner, Sin City and Sky Captain and the World of Tomorrow  if you are a fan of any of these then this will be well worth checking out.<br /><br />French animation project 'Renaissance' took seven years to make on a shoestring budget and tonight I finally got to see it at a private screening for the International Film Festival in Stockholm. My spontaneous reaction is awe; my further reflection is 'huh, neat' and closer analysis regrettably gets a resounding 'meh'. It is a gorgeous science fiction triumph on the surface, but scratch it or even poke it a little and its unnecessarily complex plot becomes glaringly apparent, as do the flat characters. <br /><br />Nevertheless it is clear that the people at Onyx films have done something spectacular with the aforementioned surface. The visuals are staggering. They have used live action motion capture fitted into key-frame animation, with stark jet black and bright white contrasts and a heavily shadowed rotoscoped background. For those of you who are not down with the 'technical lingo', the film looks like a fully-animated Sin City. Its fluid, transparent, dark and stylized template is complemented by great lurid lightning. It's a vision. Yet much credit is also due to the crisp sound effects that take the form of humming futuristic weapons, suspenseful music, heavy raindrops and glass shards breaking. It's every tech-nerd's wet dream...<br /><br />The film zooms in on an eerily-lit, bleak, futurescape Paris in which a major corporation called 'Avalon' has begun to interweave in the lives of the citizens with surveillance (think the fluid transparent screens from Minority Report) and genetic engineering. The latter leads to a mysterious kidnapping of young researcher Ilona (voiced by the lovely Romola Garai). Cut to our hard-boiled cop-on-suspension and protagonist Karas (Daniel Craig)  a man who takes the law into his own hands  who is assigned the case of finding and retrieving Ilona. During this case, he is being aided by Illona's sister with whom he also begins a love affair. A very half-assed love affair, if I may say so.<br /><br />The world of Renaissance is remarkable. Director Christian Volckman takes a fair jab at melting the noir themes and the result is an urban jungle filled with cads, rats, femme fatales and lonely detectives that hide in the shadows of the seedy slum. The problem is that the creators undoubtedly felt the need to have extremely clear and spelled-out archetypes in the story, or the film would have been \"too surreal\" for mainstream audiences, owing to its lurid animation format. It follows then that we have a multitude of clichéd characters such as evil-laughing villains, sleazy crime bosses and butch tough-chicks who blow smoke every chance they get. It shoves noir in our faces, and it isn't necessary.<br /><br />What is worse is that the dialogue is a little contrived. It seems as though every line exists for the sole reason of propelling the plot. This is nothing fatal because the plot is so complex once it gets going that it needs some clear direction. Daniel Craig helps here too by bringing a no-nonsense attitude to his hard-edged cop character. At one point in Renaissance, he is seen in a vivid car-chase that surely is one of the most adrenaline-pumping and top notch sequences of the film. Unfortunately, the novelty of the sci-fi visuals have worn off post this car chase and 'Renassaince' could benefit from being slightly shorter. In summary, a very interesting but flawed futuristic comic book experience.<br /><br />7 out of 10\n",
            "The Dirty Harry series began with very gritty cop action, and was almost immediately lightened up for \"Magnum Force\". By the time that \"The Enforcer\" rolled around, Dirty Harry was little more than a television cop show (saved only by Tyne Daly). After a break of seven years, Dirty Harry has finally gone back to his roots. Maybe he's been gone for too long this time.<br /><br />Clint Eastwood makes the first well-directed Harry film since Don Siegel made the first, which helps considerably. Harry is a darker character once again, not the nice cop he had become. He can once again say things like \"Go ahead, make my day\" and really mean it. \"Sudden Impact\" is a true Dirty Harry sequel. \"The Enforcer\" should never have been made.<br /><br />7.2 out of 10\n",
            "I have to say although I despise these kind of shows, shock horror, I'm a girl, I feel I have to express my opinion. I had seen Dirty Sanchez before I saw Jackass and think it way surpasses Jackass in terms of programme making. Story lines and interviews are inter weaved to create a more interesting show. I saw a few minutes of Jackass movie the other night and couldn't believe how poorly put together it was, everything just put in a line joke after joke with no relation between anything. It must have been the quickest easiest show to edit ever, shockingly amateur. While drinking puke isn't really my thing, as far as a substantial entertainment show goes, Dirty Sanchez is way out of Jackass's league.\n",
            "In what could have been seen as a coup towards the sexual \"revolution\" (purposefully I use quotations for that word), Jean Eustache wrote and directed The Mother and the Whore as a poetic, damning critique of those who can't seem to get enough love. If there is a message to this film- and I'd hope that the message would come only after the fact of what else this Ben-Hur length feature has to offer- it's that in order to love, honestly, there has to be some level of happiness, of real truth. Is it possible to have two lovers? Some can try, but what is the outcome if no one can really have what they really want, or feel they can even express to say what they want? <br /><br />What is the truth in the relationships that Alexandre (Jean-Pierre Leaud) has with the women around him? He's a twenty-something pseudo-intellectual, not with any seeming job and he lives off of a woman, Marie (Bernadette Lafont) slightly older than him and is usually, if not always, his lover, his last possible love-of-his-life left him, and then right away he picks up a woman he sees on the street, Veronika (Françoise Lebrun), who perhaps reminds him of her. Soon what unfolds is the most subtly torrid love triangle ever put on film, where the psychological strings are pulled with the cruelest words and the slightest of gestures. At first we think it might be all about what will happen to Alexandre, but we're mistaken. The women are so essential to this question of love and sex that they have to be around, talking on and on, for something to sink in.<br /><br />We're told that part of the sexual revolution, in theory if not entirely in practice (perhaps it was, I can't say having not been alive in the period to see it first-hand), was that freedom led to a lack of inhibitions. But Eustache's point, if not entirely message, is that it's practically impossible to have it both ways: you can't have people love you and expect to get the satisfaction of ultimate companionship that arrives with \"f***ing\", as the characters refer over and over again. <br /><br />The Mother and the Whore's strengths as far as having the theme is expressing this dread beneath the promiscuity, the lack of monogamy, while also stimulating the intellect in the talkiest talk you've ever seen in a movie. At the same time we see a character like Alexandre, who probably loves to hear himself talk whether it's about some movie he saw or something bad from his past, Eustache makes it so that the film itself isn't pretentious- though it could appear to be- but that it's about pretentiousness, what lies beneath those who are covering up for their internal flaws, what they need to use when they're ultimately alone in the morning. <br /><br />If you thought films like Before Sunrise/Sunset were talky relationship flicks, you haven't met this. But as Eustache revels in the dialogs these characters have, sometimes trivial, or 'deep', or sexual, or frank, or occasionally extremely (or in a subdued manner) emotional, it's never, ever uninteresting or boring. On the contrary, for those who can't get enough of a *good* talky film, it's exceptional. While his style doesn't call out to the audaciousness that came with his forerunners in the nouvelle vague a dozen years beforehand, Eustache's new-wave touch is with the characters, and then reverberating on them.<br /><br />This is realism with a spike of attitude, with things at time scathing and sarcastic, crude and without shame in expression. All three of the actors are so glued to their characters that we can't ever perceive them as 'faking' an emotion or going at all into melodrama. It's almost TOO good in naturalistic/realism terms, but for Eustache's material there is no other way around it. Luckily Leaud delivers the crowning chip of his career of the period, and both ladies, particularly Labrun as the \"whore\" Veronika (a claim she staggeringly refutes in the film's climax of sorts in one unbroken shot). And, as another touch, every so often, the director will dip into a quiet moment of thought, of a character sitting by themselves, listening to a record, and in contemplation or quiet agony. This is probably the biggest influence on Jim Jarmusch, who dedicated his film Broken Flowers to Eustache and has one scene in particular that is lifted completely (and lovingly) in approach from the late Parisian.<br /><br />Sad to say, before I saw Broken Flowers, I never heard of Eustache or this film, and procuring it has become quite a challenge (not available on US DVD, and on VHS so rare it took many months of tracking at various libraries). Not a minute of that time was wasted; the Mother and the Whore is truly beautiful work, one of the best of French relationship dramas, maybe even just one of the most staggeringly lucid I've seen from the country in general. It's complex, it's sweet, it's cold, it's absorbing, and it's very long, perhaps too long. It's also satisfying on the kind of level that I'd compare to Scenes from a Marriage; true revelations about the human condition continue to arise 35 years after each film's release.\n",
            "In Brooklyn a century ago, the rivalry between Chuck Connors and Steve Brodie and their competing volunteer fire brigades leads to Brodie's famous bet that he can jump off the Brooklyn Bridge. This is a story which will be familiar to a lot of people through a Bugs Bunny spoof, \"Bowery Bugs\" from 1949.<br /><br />This generally very enjoyable film would probably be more widely available if it were not for the notorious and unsettling scene involving some Chinese tenement dwellers -- a time capsule of antediluvian racial attitudes, giving the film a great deal of historical interest, in my view.\n",
            "C'mon people, look at the title! LOL! I remember seeing this movie on Saturday Late Night Creature Features years ago. It's a great, cheesy monster flick with hilariously bad acting and two wonderfully moronic hillbillies that add to the schlock factor. The 2 redneck boat rental guys are the movie! LOL, and you'll love the boat scene where the English guy and his wife are talking about all the stars and it's midday and sunny. Bloody hilarious!!! You can tell they just didn't care about plot, they just wanted to blow through the filming of the movie as fast as possible. Bottom line, you'll love it if you love 70's schlock.\n",
            "This is one of my all time favorite movies and I would recommend it to anyone. On my list of favorite movies (mental list, mind) the only ones on par with it are movies such as The Lord of the Rings series, Spirited Away and Fly Away Home.<br /><br />I can really relate to the main character Jess. At the start of the movie she's a shy girl with a slightly odd background who has a lot more friends who are boys than that are girls. She really sucks you into her life. I also certainly can't fault any of the protagonist's acting, or anyone else's in the film.<br /><br />The soccer was interesting to watch even for someone like me who has no idea of the rules. The movie is never boring. The romance is really cute and didn't make me blush tooooo hard! One thing that really made it though was the Indian factor. Jess' parents are Indian and there are many colourful Indian conventions throughout the film providing a very interesting cultural insight as well as everything else. The Indian people are also hilarious! Essentially this is a coming of age film about choosing the path you want and fighting for it.<br /><br />Feel good comedies are becoming my favorite movie genre thanks to this film. They're funny, they're refreshing and they make you feel good! ^_~\n",
            "Spider-Man is in my opinion the best superhero ever, and this game is the best superhero game ever. While it may be somewhat easy, you have to play it several times to get all the costumes and comic book covers, which makes up for how easy it is to get through the game. It may seem hard to control at first, but once you get the hang of it, you will be web-slinging like Spider-Man himself.<br /><br />The bosses, while like the levels are somewhat easy, are fun. The first boss, Scorpion, is incredibly easy to beat, which shouldn't be so because as fans of the comic books know, Scorpion is one of Spider-Man's most deadly villains. The second boss, Rhino, is also very easy. The 3rd boss is Venom, who is in my opinion the easiest boss in the game, which definately shouldn't be. The 4th boss is Venom again. This time, he is a little bit more difficult to beat but still easy. The 5th boss is Mysterio, who I think is the funnest boss to battle in the game. He is also one of the harder bosses, but once again, still fairly easy. Next boss is Carnage, who is, you guessed it, easy to beat. But Carnage is actually kind of fun to fight. 7th boss is Doctor Octopus, who is like all the other bosses easy, but not as easy as the other ones because he has a shield. The 8th and final boss is exclusive to the game, never in a comic book or cartoon. I won't spoil it for you for those of you who haven't played the game, but the boss is the only boss in the game that isn't too easy. Took me 4 or 5 tries to beat while the others I beat on the first or second tries.<br /><br />All in all, a very good game. I gave it an 8 out of 10. The reasons why I didn't give it a 9 or 10 are that once you get all the costumes and comic book covers it gets kind of boring (getting all that stuff will take a while though), it is not very accurate according to the comic books or cartoon show, the bosses are too easy, and they should have used Hobgoblin and/or Green Goblin as a boss, I think it would be fun to battle someone flying around in the air! They didn't use them in the sequel to this game either! Well the Green Goblin is the villain in the upcoming Spider-Man movie, so hopefully they will make a video game based on the movie.\n",
            "The release of TARZAN THE APE MAN, in 1932, caused a sensation. It may be hard to believe, 70 years later, but the film had much of the same kind of impact as THE MATRIX, or THE LORD OF THE RINGS has achieved, at a time when movies and radio were the major sources of entertainment. Tarzan became an instant pop icon, the 'noble savage' that every woman fantasized about, and every man wished he could be. The only person unhappy about the situation was Edgar Rice Burroughs, who, while he'd agreed to MGM's creative liberties, and enjoyed his hefty royalty checks, felt the 'dumbed down' version of his character (with no plans to allow him to 'grow') was unfaithful to his vision (he would start a production company, and soon be making his own 'Tarzan' films). MGM, realizing the value of it's newest 'star', knew the sequel would have to be even more spectacular than the original...and TARZAN AND HIS MATE delivered!<br /><br />The film had an interesting back story; Cedric Gibbons, MGM's legendary Art Director, had gotten a commitment from the studio to direct the sequel, prior to the release of TARZAN THE APE MAN, despite the fact that he'd NEVER directed before (the studio hadn't anticipated the film's impact, and didn't think a novice director would matter much on a 'novelty' film...and they wanted to keep their Oscar-winning department chief happy). Gibbons, a prodigiously talented and imaginative visual artist, loved the freedom of pre-Code Hollywood, and decided to have TARZAN AND HIS MATE 'push the envelope' to the limit...Tarzan and Jane would frolic in a nude swim, and Jane would appear TOPLESS through most of the film. Maureen O'Sullivan said in an interview shortly before her death, in 1998, that while a double was used for the swim, she trusted the studio, and did 'a couple of days' of filming sans top...but it became too much of a headache trying to strategically place plants and fruit to block her nipples, and the idea was abandoned (the film shot those days would be worth a fortune!) She did do a nude silhouette scene in a tent, flashed her breasts at the conclusion of her 'swim', and donned a revised 'jungle' costume that was extremely provocative, very thin, and open at the sides...and the resulting outcry would help 'create' the Hays Office, and the self-censorship that would soon engulf the entire industry.<br /><br />MGM yanked Gibbons from the production (the 'official' reason given was his workload as Art Director), and veteran Jack Conway was listed as the new director, to appease the critics...although James C. McKay actually directed the film, as Conway was busy on 3 other projects, including VIVA VILLA!<br /><br />The film incorporated the best elements of the original (safaris, murderous tribes, Tarzan fighting jungle beasts to the death to save Jane), and actually improved on the storytelling. Harry Holt (Neil Hamilton), from the first film, returns to Africa for ivory from the 'Elephants' Graveyard', and to try to seduce Jane into returning to England, with gifts of silk dresses, underwear, and perfume. He brings with him Martin Arlington (Paul Cavanagh), a crack shot and inveterate womanizer, who sneers at Holt's chivalrous pursuit of Jane, and stalks her as a potential 'conquest', to be had by any means (including killing Tarzan, if and when he can get away with it without being seen).<br /><br />Tarzan barely tolerates the intrusion into his happy life with Jane, and puts his foot down, refusing to allow the hunters into the Graveyard. Arlington finds his opportunity, catching the Ape Man alone, and shoots him, then returns to the camp with a fabricated story of his demise. Now Jane has no reason to remain in the jungle, and she can direct them to the Graveyard, before her long voyage back to England, comforted by the oh-so-sympathetic Arlington. But a savage tribe and hideous torture await the group...can Tarzan, being nursed back to health by his ape 'family', recover in time to save Jane?<br /><br />While stock footage is again used extensively, the racial stereotypes of the 30s are apparent, and the gorillas are obviously actors in ape suits, TARZAN AND HIS MATE achieves a level of sophistication unsurpassed in any other 'Tarzan' film, as well as a sexiness that even Bo Derek's blatantly erotic TARZAN, THE APE MAN couldn't touch. Johnny Weissmuller was in peak condition, physically, Maureen O'Sullivan was never more beautiful, and 'Africa' never looked more romantic, and dangerous.<br /><br />TARZAN AND HIS MATE was a triumph (although it would be drastically edited for many years), and remains THE classic of the series, to this day!\n",
            "This film contains the one ingredient that all revenge movies should have and that is true emotion. Sorrow, love, laughter , anger. There are so many emotions thrown into this film. From start to finish this film is immensely captivating. The plot on paper sounds like the usually rubbish that is mostly thrown In the faces of the audiences but don't be mistaken, this film is powerful. Washington as always puts on a great performance.<br /><br />The plot in a nutshell: man suffers from depression, a young girl brings life into him, kids gets kidnap, man wants revenge. Doesn't sound like anything special but it far superior than any other similar film out there. For instant, TAKEN is a similar film but when you compare them both, MAN ON FIRE wins hands down. The characters are engaging and everyone puts in a great performance and the directing is great. Mexico City feels alive , it looks like Mexico city, it smells like Mexico city. Everything is portrayed brilliantly . the style of direction was something I enjoyed and brought the best out of Mexico City<br /><br />This is one of those films you'll bring out once a year to watch again or a film that you'll beg your family and friends to watch. From start to finish you are rooting for the main protagonist, making it a roller-coaster journey. There enough action to keep you happy, there enough character development to please you and then there's Washington to bring a smile to your face . Watch this film, you won't be disappointed\n",
            "In my opinion, this is the best stand-up show I have ever seen. I became an instant Eddie fan after seeing Dress to Kill, but I must say I think this is his best work. I would say, though, if you ever get the chance to definitely go see him live. It is worth it!<br /><br />Most of the time after seeing a stand-up routine a couple times, the jokes start to get old. But I have to say, I've seen this show SO many times that I literally have the entire thing memorized (which yes, I realize is kinda sad) but every joke still makes me laugh. This is truly a feel good show.<br /><br />Dress to Kill will never get old for me. I own it and watch it anytime I need a good laugh.\n",
            "I thought this move was very good. There were a few things that were less than perfect, but overall, I was quite surprised. The courtroom scene in the end seemed a little unrealistic, but was real enough to be entertaining. I found that the movie communicated the hardships of going though military training and the sacrifices that go along with it. Being a military pilot I could relate to many of these parts.\n",
            "Norman, Is That You? was (this is all third hand, so take it with a grain of salt) adapted to an African American family from a Jewish one, when it made the transition off stage and onto screen. Also, it was one of those movies originally filmed in video, so the prints from the theater can't have been that great. Still, performances by Redd Foxx and others were pretty good. <br /><br />What I wanted to tell you all is that the movie is a PERIOD PIECE: it reflected the attitudes in the mid to early 70s about finding out you have a gay son or daughter in your family. For that reason alone, it's pretty interesting- if not a little \"hollywood\". Don't believe me? Check out lines about curtains, etc. Very stereotypical. Not too deep.<br /><br />But... the movie really shines in a couple of areas. There is a side splitting scene when Redd Foxx is trying to find his wife, who's run away with his brother (!) to Ensenada in a souped up Pinto. The phone conversation across the border is really memorable. <br /><br />But... the best scene in the movie is when Wayland Flowers and Madame did his/their gay routine that he used to do in gay bars and nightclubs. To the best of my knowledge, this is the only time that routine was filmed. And, it's a slightly cleaned up and much shorter version, I'm told. Still, it's vintage Madame, and shouldn't be missed. People are still stealing lines from Wayland; the man was truly gifted. Enjoy the movie!\n",
            "This is not a movie you watch for entertainment, at least most people I know would not.<br /><br />It's portraits the cruelty to both body and mind that happen in a war pretty well, the characters seem plausible, especially because you \"read their minds\", something more often found in books and rarely in movies, however done very well in this piece. I would place it next to \"All quiet on the western front\" and \"Die Brücke\" in terms of leaving a lasting impression.<br /><br />I wish I could screen it at school, along with the other two movies - however finding a copy of it showed to be pretty hard - which is a shame.\n",
            "\"Winchester '73\" marked the first of a series of westerns involving James Stewart and director Anthony Mann. As in most of them Stewart's hero has an violent edge that threatens to explode at any time.<br /><br /> The title refers to a \"one in a thousand\" rifle that is up for competition at a rifle shoot held in Dodge City on July 4, 1876. Into town comes Lin McAdam (Stewart) and his sidekick High Spade (Millard Mitchell) who are on the trail of Dutch Henry Brown (Stephen McNally) for a past dastardly deed. They arrive just in time to see Marshal Wyatt Earp (Will Geer) running saloon girl Lola (Shelley Winters) out of town. It turns out that Dutch Henry is also in town for the rifle shoot. Lin and Dutch Henry shoot it out for the coveted prize with Lin winning but Dutch Henry robs Lin of the gun and escapes.<br /><br /> Lin and High Spade trail Dutch Henry across country where they encounter Lola with her cowardly beau Steve Miller (Charles Drake) hold up in a U.S. Cavalry camp awaiting attack by the Indians led by Young Bull (Rock Hudson) who has acquired the prized rifle by murdering wily gun runner John McIntyre. He had got the weapon by cheating Dutch Henry at poker. Young Bull is killed during the attack and the gun passes to Steve.<br /><br /> Meanwhile, back at the ranch, Lola and Steve meet up with notorious gunman Waco Johnny Dean (Dan Duryea) who kills Steve and takes the valued rifle and Lola for himself. When Dean meets up with Dutch Henry, he allows him to take back \"his gun\" planning to murder him later. In the town of Tuscosa, Lin kills Dean as Dutch Henry's plans of holding up the bank go bad and he escapes into the hills with Lin in pursuit. In one of the best final shoot outs ever, the two meet in the final showdown.<br /><br /> I believe that this movie was the only one of the Stewart/Mann collaborations that was shot in B&W. It is beautifully photographed, especially the scenes in the \"wide open spaces\" and in particular, the final showdown. Stewart playing against type, plays the hero with a violent revenge motive edge, an emotion that he would carry into future films with Mann.<br /><br /> As in most Universal westerns, this one boasts a cast of seasoned veterans and contract players of the day. In addition to those mentioned above, J.C. Flippen appears as the cavalry sergeant, Steve Brodie, James Millican, John Doucette and Chuck Roberson as various henchmen, Ray Teal as the sheriff pursuing Duryea, Tony Curtis and James Best as rookie soldiers and Edmund Cobb, Chief Yowlachie and John War Eagle in various roles in the Dodge City sequence.<br /><br /> A classic western in every sense of the word. It was responsible for re-generating Stewart's career as an action star.\n",
            "Obviously, there wasn't a huge budget for this film which definitely hindered the production. But the story and ending were so brutal that they made up for a lot. I mean brutal on the level of Ju Dou and other (great) Chinese films. I first saw this when I was 14 years old, I ran home and begged God to forgive me for everything...\n",
            "The superb star quality of Gerard Philipe, who died way too young, leaps from the screen in this witty, funny, sly swashbuckling comedy with plenty of sword fencing and knockabout antics. Charmingly loopy in its' storytelling, impossible to resist. A sweet romantic comedy with a very young Gina Lollobrigida as the love interest. A movie one will remember with great affection.\n"
          ]
        }
      ],
      "source": [
        "# Sample code: iterate through all texts\n",
        "for text in iterate_texts(data_train[:20]):\n",
        "    print(text)"
      ]
    },
    {
      "cell_type": "code",
      "source": [
        "# Define the number of sample texts to print\n",
        "n_samples = 2\n",
        "\n",
        "# Assume 'data_train' is a DataFrame or list containing your text data.\n",
        "# Instead of accessing 'text', access the 'path' column,\n",
        "# which likely contains the file paths to your text data.\n",
        "# Then, load the text content from those paths.\n",
        "X_train = [load_text(data_train.loc[i, 'path']) for i in range(n_samples)]\n",
        "\n",
        "# Print some sample texts from the training set\n",
        "for i in range(n_samples):\n",
        "    print(f\"Sample {i+1}:\\n\")\n",
        "    print(X_train[i])  # Print the text\n",
        "    print(\"\\n\" + \"=\"*80 + \"\\n\")"
      ],
      "metadata": {
        "colab": {
          "base_uri": "https://localhost:8080/"
        },
        "id": "soE8Qj9hsF0E",
        "outputId": "920bd945-aee1-4cfe-b279-512ac76175e5"
      },
      "execution_count": 11,
      "outputs": [
        {
          "output_type": "stream",
          "name": "stdout",
          "text": [
            "Sample 1:\n",
            "\n",
            "The early career of Abe Lincoln is beautifully presented by Ford. Not that anyone alive has seen footage of the real Lincoln, but Fonda, wearing a fake nose, is uncanny as Lincoln, with the voice, delivery, walk, and other mannerisms - exactly as one would imagine Lincoln to have been. Ford, in the first of three consecutive films he made with Fonda, is at the top of his form, perfectly evoking early 19th century America. The story focuses on a pair accused of murder that Lincoln defends and the courtroom scenes are quite well done. The supporting cast includes many of Ford's regulars. This was Alice Brady's last film, as she died months after its release.\n",
            "\n",
            "================================================================================\n",
            "\n",
            "Sample 2:\n",
            "\n",
            "Bruce Almighty is the best Jim Carrey work since The Truman Show, and was a pleasant surprise after some of his recent \"Hey Hollywood - look how good I can act!\" box office disappointments. It's great to see Jim recognizing and embracing his strengths. He won't get an Academy Award but the film itself will last longer than many of the \"awarded films\" of the Academy. He is at the top of his form in this most recent film - it's like the return of an old friend.<br /><br />Carrey, Freeman, and Aniston all do a great job together - comfortable in their comedy roles, superb comic timing, and obviously having fun together but without the \"hey mom - look how funny I am\" type of comedy. A real surprise was Steven Carrell as Carrey's nemesis (Carrell of The Daily Show fame), who walked away with some the best and funniest scenes of the film. I laughed harder at Carell than anyone else in the past three years.<br /><br />I can foresee the religious nuts in the US will be up-in-arms over the treatment of God, but the bottom line of the film is true to all major theological beliefs - we are masses of protoplasms trying to get through our short lives by exercising our free will. Without Married With Children t o complain about, this will likely become a target of people with misplaced priorities (who know the types - men adorned in gold watches on Sunday morning and late nigh television, selling prayers to God). And, again, about 0.5% of the country will care and 80% of the media will report it.<br /><br />The bottom line: this a purely entertaining film, each audience member laughingly wondering what they would do, and a feel-good feeling at the movie conclusion. A walk down any major street in America has to confirm that God has a tremendous sense of humor. What better comic genius to remind us of that than Jim Carry.<br /><br />Thanks again, Jim -- it's GREAT to have you back!!\n",
            "\n",
            "================================================================================\n",
            "\n"
          ]
        }
      ]
    },
    {
      "cell_type": "markdown",
      "source": [
        "LIMITATIONS/ISSUES CAPTURED FROM THE ABOVE TEXT SAMPLES:\n",
        "\n",
        "HTML tags and special characters\n",
        "\n",
        "Punctuation and symbols (&)\n",
        "\n",
        "Contractions (\"isn't\", \"I'll\", \"I'm\")\n",
        "\n",
        "Parentheses and annotations (\"(Crouching Tiger) \")\n",
        "\n",
        "Informal formatting (\"my rating is ****\")\n",
        "\n",
        "Ambiguity and polysemy (\"dictators\")\n",
        "\n",
        "Long and complexes sentences\n",
        "\n",
        "Informal language (\"what can be so bad about that?\")\n",
        "\n",
        "Quotation marks (\"dictators\", \"sin\")\n",
        "\n",
        "\n",
        "\n",
        "We will elaborate about them and add our conclusions in the report."
      ],
      "metadata": {
        "id": "yWw3AZ8SumVn"
      }
    },
    {
      "cell_type": "code",
      "source": [
        "import re\n",
        "\n",
        "def remove_html_tags(text):\n",
        "    # Regex to match HTML tags\n",
        "    clean_text = re.sub(r'<.*?>', '', text)\n",
        "    return clean_text\n",
        "\n"
      ],
      "metadata": {
        "id": "_Zgm5pNuGJNM"
      },
      "execution_count": 12,
      "outputs": []
    },
    {
      "cell_type": "code",
      "source": [
        "import string\n",
        "\n",
        "def remove_punctuation_and_symbols(text):\n",
        "    # Remove punctuation and special symbols using regex\n",
        "    clean_text = re.sub(r'[^\\w\\s]', '', text)\n",
        "    return clean_text\n",
        "\n"
      ],
      "metadata": {
        "id": "ZR8XyEHiGb94"
      },
      "execution_count": 13,
      "outputs": []
    },
    {
      "cell_type": "code",
      "source": [
        "# Dictionary of common contractions and their expanded forms\n",
        "contractions_dict = {\n",
        "    \"I'm\": \"I am\",\n",
        "    \"you're\": \"you are\",\n",
        "    \"he's\": \"he is\",\n",
        "    \"she's\": \"she is\",\n",
        "    \"it's\": \"it is\",\n",
        "    \"we're\": \"we are\",\n",
        "    \"they're\": \"they are\",\n",
        "    \"I've\": \"I have\",\n",
        "    \"you've\": \"you have\",\n",
        "    \"we've\": \"we have\",\n",
        "    \"they've\": \"they have\",\n",
        "    \"I'll\": \"I will\",\n",
        "    \"you'll\": \"you will\",\n",
        "    \"he'll\": \"he will\",\n",
        "    \"she'll\": \"she will\",\n",
        "    \"we'll\": \"we will\",\n",
        "    \"they'll\": \"they will\",\n",
        "    \"isn't\": \"is not\",\n",
        "    \"aren't\": \"are not\",\n",
        "    \"wasn't\": \"was not\",\n",
        "    \"weren't\": \"were not\",\n",
        "    \"can't\": \"cannot\",\n",
        "    \"couldn't\": \"could not\",\n",
        "    \"won't\": \"will not\",\n",
        "    \"wouldn't\": \"would not\",\n",
        "    \"don't\": \"do not\",\n",
        "    \"doesn't\": \"does not\",\n",
        "    \"didn't\": \"did not\",\n",
        "    \"haven't\": \"have not\",\n",
        "    \"hasn't\": \"has not\",\n",
        "    \"hadn't\": \"had not\",\n",
        "    \"I'll\": \"I will\",\n",
        "    \"you'll\": \"you will\",\n",
        "    \"he'll\": \"he will\",\n",
        "    \"she'll\": \"she will\",\n",
        "    \"we'll\": \"we will\",\n",
        "    \"they'll\": \"they will\",\n",
        "    \"I've\": \"I have\",\n",
        "    \"you've\": \"you have\",\n",
        "    \"they've\": \"they have\",\n",
        "    \"we've\": \"we have\",\n",
        "    \"let's\": \"let us\",\n",
        "    \"that's\": \"that is\",\n",
        "    \"who's\": \"who is\",\n",
        "    \"what's\": \"what is\",\n",
        "    \"where's\": \"where is\",\n",
        "    \"there's\": \"there is\",\n",
        "    \"here's\": \"here is\",\n",
        "    \"shouldn't\": \"should not\",\n",
        "    \"wouldn't\": \"would not\",\n",
        "    \"couldn't\": \"could not\",\n",
        "    \"mustn't\": \"must not\",\n",
        "    \"shan't\": \"shall not\",\n",
        "    \"hadn't\": \"had not\",\n",
        "    \"hasn't\": \"has not\"\n",
        "    # Add more contractions as needed\n",
        "}\n",
        "\n",
        "# Function to expand contractions\n",
        "def expand_contractions(text):\n",
        "    contractions_pattern = re.compile(r'\\b(' + '|'.join(contractions_dict.keys()) + r')\\b', flags=re.IGNORECASE)\n",
        "    def replace(match):\n",
        "        return contractions_dict.get(match.group(0).lower(), match.group(0))\n",
        "    return contractions_pattern.sub(replace, text)\n",
        "\n",
        "# Example usage\n",
        "text = \"I'll go if you're ready. She's been waiting, but I can't make it.\"\n",
        "expanded_text = expand_contractions(text)\n",
        "print(expanded_text)\n"
      ],
      "metadata": {
        "colab": {
          "base_uri": "https://localhost:8080/"
        },
        "id": "NaTBJ0qfG5uy",
        "outputId": "5d0ac091-0629-4259-9cfd-f7613529ad81"
      },
      "execution_count": 14,
      "outputs": [
        {
          "output_type": "stream",
          "name": "stdout",
          "text": [
            "I'll go if you are ready. she is been waiting, but I cannot make it.\n"
          ]
        }
      ]
    },
    {
      "cell_type": "code",
      "source": [
        "def remove_parentheses(text):\n",
        "    # Remove text inside parentheses along with parentheses\n",
        "    clean_text = re.sub(r'\\(.*?\\)', '', text)\n",
        "    return clean_text\n"
      ],
      "metadata": {
        "id": "eYMTaZhZHOlZ"
      },
      "execution_count": 17,
      "outputs": []
    },
    {
      "cell_type": "code",
      "source": [
        "# Define a set of informal tokens to remove\n",
        "informal_tokens = {\n",
        "    \"u\": \"you\",\n",
        "    \"r\": \"are\",\n",
        "    \"lmao\": \"\",  # Remove\n",
        "    \"lol\": \"\",   # Remove\n",
        "    \"btw\": \"by the way\",\n",
        "    \"idk\": \"I do not know\",\n",
        "    \"omg\": \"oh my god\",\n",
        "    \"gonna\": \"going to\",\n",
        "    \"wanna\": \"want to\",\n",
        "    \"gotta\": \"got to\",\n",
        "    \"b/c\": \"because\",\n",
        "    \"thx\": \"thanks\",\n",
        "    \"pls\": \"please\",\n",
        "    \"cuz\": \"because\",\n",
        "    \"wut\": \"what\",\n",
        "    \"smh\": \"\",  # Remove\n",
        "    \"k\": \"okay\",\n",
        "    \"ttyl\": \"talk to you later\"\n",
        "}\n",
        "\n",
        "def remove_informal_tokens(text):\n",
        "    # Replace informal tokens\n",
        "    for token, replacement in informal_tokens.items():\n",
        "        # Use regex to match whole words and replace them\n",
        "        text = re.sub(r'\\b' + re.escape(token) + r'\\b', replacement, text, flags=re.IGNORECASE)\n",
        "    return text\n",
        "\n",
        "def fix_punctuation(text):\n",
        "    # Ensure proper spacing after punctuation\n",
        "    text = re.sub(r'\\s*([.,;:!?()])\\s*', r'\\1 ', text)  # Ensure space after punctuation\n",
        "    text = re.sub(r'\\s+', ' ', text)  # Replace multiple spaces with a single space\n",
        "    text = text.strip()  # Trim leading and trailing spaces\n",
        "    return text\n",
        "\n",
        "# Combined function to clean the text\n",
        "def clean_text(text):\n",
        "    text = remove_informal_tokens(text)  # Remove informal tokens\n",
        "    text = fix_punctuation(text)  # Fix punctuation\n",
        "    return text\n",
        "\n",
        "\n"
      ],
      "metadata": {
        "id": "zrIoCD2IHqLy"
      },
      "execution_count": 18,
      "outputs": []
    },
    {
      "cell_type": "markdown",
      "metadata": {
        "id": "dHLiIMDifQTI"
      },
      "source": [
        "### A simple pipeline:"
      ]
    },
    {
      "cell_type": "markdown",
      "metadata": {
        "id": "tOYzJ1-SfQTI"
      },
      "source": [
        "**White-Space tokenization:**"
      ]
    },
    {
      "cell_type": "code",
      "execution_count": 19,
      "metadata": {
        "id": "GJjcIUkHfQTI"
      },
      "outputs": [],
      "source": [
        "def tokenize(text:str):\n",
        "    ''' An example tokenization function. '''\n",
        "\n",
        "    # simple white-space tokenization:\n",
        "    return text.lower().split()\n"
      ]
    },
    {
      "cell_type": "code",
      "source": [
        "from tokenizers import Tokenizer\n",
        "from tokenizers.models import BPE # Import BPE from tokenizers.models instead of tokenizers.modules\n",
        "from tokenizers.trainers import BpeTrainer\n",
        "\n",
        "# Define 's' before encoding it\n",
        "s = \"Hello, this is a test sentence for the tokenizer.\" # Example string\n",
        "\n",
        "# Initialize a BPE tokenizer\n",
        "tokenizer = Tokenizer(BPE())\n",
        "\n",
        "# Initialize a BPE trainer\n",
        "trainer = BpeTrainer()\n",
        "\n",
        "# Train the tokenizer with the specified training files, using the full paths\n",
        "tokenizer.train(\n",
        "      ['train1.txt', 'train2.txt'],\n",
        "      trainer=trainer\n",
        "    )\n",
        "\n",
        "t = tokenizer.encode(s) # Encode 's' and store the result in 't'\n",
        "decoded_s = tokenizer.decode(t.ids) # Decode the encoded tokens back to a string\n"
      ],
      "metadata": {
        "id": "_8QVKXIJoHeK"
      },
      "execution_count": 35,
      "outputs": []
    },
    {
      "cell_type": "markdown",
      "metadata": {
        "id": "GddqcHfvfQTJ"
      },
      "source": [
        "**Bag-of-words Embedding:**\n",
        "\n",
        "See documentation of [sklearn.feature_extraction.text.CountVectorizer](https://scikit-learn.org/stable/modules/generated/sklearn.feature_extraction.text.CountVectorizer.html)"
      ]
    },
    {
      "cell_type": "code",
      "execution_count": 36,
      "metadata": {
        "colab": {
          "base_uri": "https://localhost:8080/"
        },
        "id": "SGnHx6ThfQTJ",
        "outputId": "0a44343e-9849-4dcd-cb25-68b4579c78a6"
      },
      "outputs": [
        {
          "output_type": "stream",
          "name": "stderr",
          "text": [
            "/usr/local/lib/python3.10/dist-packages/sklearn/feature_extraction/text.py:521: UserWarning: The parameter 'token_pattern' will not be used since 'tokenizer' is not None'\n",
            "  warnings.warn(\n"
          ]
        }
      ],
      "source": [
        "from sklearn.feature_extraction.text import CountVectorizer\n",
        "\n",
        "# create a simple bag of words embedding:\n",
        "bow = CountVectorizer(\n",
        "\n",
        "    # the next line converts the filepaths to the actual texts:\n",
        "    preprocessor = load_text,\n",
        "\n",
        "    # tokenization function from above:\n",
        "    tokenizer = tokenize\n",
        "\n",
        ")\n",
        "\n",
        "# train the embedding:\n",
        "embeddings_train = bow.fit_transform(data_train['path'].values)\n",
        "\n",
        "# vectorize test data:\n",
        "embeddings_test = bow.transform(data_test['path'].values)"
      ]
    },
    {
      "cell_type": "markdown",
      "metadata": {
        "id": "-qbhJp3tfQTJ"
      },
      "source": [
        "**Classification with a linear SVM**\n",
        "\n",
        "See documentation of [sklearn.svm.LinearSVC](https://scikit-learn.org/stable/modules/generated/sklearn.svm.LinearSVC.html#sklearn.svm.LinearSVC)"
      ]
    },
    {
      "cell_type": "code",
      "execution_count": 37,
      "metadata": {
        "colab": {
          "base_uri": "https://localhost:8080/"
        },
        "id": "EUb6hTYVfQTJ",
        "outputId": "09b4dc39-1cc1-4b39-cdd2-b13a468385ec"
      },
      "outputs": [
        {
          "output_type": "stream",
          "name": "stdout",
          "text": [
            "Accuracy: 0.779\n"
          ]
        }
      ],
      "source": [
        "from sklearn.svm import LinearSVC\n",
        "from sklearn.metrics import accuracy_score\n",
        "\n",
        "svm = LinearSVC()\n",
        "\n",
        "# train classifier:\n",
        "svm.fit(embeddings_train, data_train['label'].values)\n",
        "\n",
        "# test classifier:\n",
        "predictions = svm.predict(embeddings_test)\n",
        "\n",
        "# Calculate Accuracy:\n",
        "print('Accuracy:', accuracy_score(data_test['label'].values, predictions))"
      ]
    }
  ],
  "metadata": {
    "kernelspec": {
      "display_name": "Python 3",
      "language": "python",
      "name": "python3"
    },
    "language_info": {
      "codemirror_mode": {
        "name": "ipython",
        "version": 3
      },
      "file_extension": ".py",
      "mimetype": "text/x-python",
      "name": "python",
      "nbconvert_exporter": "python",
      "pygments_lexer": "ipython3",
      "version": "3.11.9"
    },
    "colab": {
      "provenance": [],
      "include_colab_link": true
    }
  },
  "nbformat": 4,
  "nbformat_minor": 0
}